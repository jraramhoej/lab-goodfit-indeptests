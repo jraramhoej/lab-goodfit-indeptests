{
 "cells": [
  {
   "cell_type": "markdown",
   "metadata": {},
   "source": [
    "## Question 1\n",
    "The following table indicates the number of 6-point scores in an American rugby match in the 1979 season.\n",
    "\n",
    "![](table1.png)\n",
    "\n",
    "Based on these results, we create a Poisson distribution with the sample mean parameter  = 2.435. Is there any reason to believe that at a .05 level the number of scores is a Poisson variable?"
   ]
  },
  {
   "cell_type": "code",
   "execution_count": 18,
   "metadata": {},
   "outputs": [
    {
     "name": "stdout",
     "output_type": "stream",
     "text": [
      "Can the null hypothesis that it follows a Poisson dist be rejected? True\n"
     ]
    }
   ],
   "source": [
    "# your answer here\n",
    "\n",
    "# import poisson and numpy\n",
    "import scipy.stats as st\n",
    "import numpy as np\n",
    "\n",
    "# sl\n",
    "sl = 0.05\n",
    "\n",
    "# parameter\n",
    "p = 2.435\n",
    "\n",
    "# observed values\n",
    "o = np.array([35, 99, 104, 110, 62, 25, 10, 3])\n",
    "\n",
    "n = o.sum()\n",
    "\n",
    "# create geom dist\n",
    "poisson_dist = st.poisson(p)\n",
    "\n",
    "expected_probs = np.array([poisson_dist.pmf(val) for val in range(1, 9)])\n",
    "\n",
    "e = expected_probs*n\n",
    "\n",
    "stat, p_value = st.chisquare(o, f_exp=e)\n",
    "\n",
    "print(f\"Can the null hypothesis that it follows a Poisson dist be rejected? {p_value < sl}\")"
   ]
  },
  {
   "cell_type": "markdown",
   "metadata": {},
   "source": [
    "## BONUS/OPTIONAL - Question 2\n",
    "Let's analyze a discrete distribution. To analyze the number of defective items in a factory in the city of Medellín, we took a random sample of n = 60 articles and observed the number of defectives in the following table:\n",
    "\n",
    "![](table2.png)\n",
    "\n",
    "A poissón distribution was proposed since it is defined for x = 0,1,2,3, .... using the following model:\n",
    "\n",
    "![](image1.png)\n",
    "\n",
    "For some extra insights check the following link: https://online.stat.psu.edu/stat504/node/63/ \n",
    "\n",
    "Does the distribution of defective items follow this distribution?"
   ]
  },
  {
   "cell_type": "code",
   "execution_count": null,
   "metadata": {},
   "outputs": [],
   "source": [
    "# your code here"
   ]
  },
  {
   "cell_type": "markdown",
   "metadata": {},
   "source": [
    "## Question 3\n",
    "A quality control engineer takes a sample of 10 tires that come out of an assembly line, and would like to verify on the basis of the data that follows, if the number of tires with defects observed over 200 days, if it is true that 5% of all tires have defects (that is, if the sample comes from a binomial population with n = 10 and p = 0.05). \n",
    "\n",
    "![](table3.png)\n"
   ]
  },
  {
   "cell_type": "code",
   "execution_count": 12,
   "metadata": {},
   "outputs": [
    {
     "name": "stdout",
     "output_type": "stream",
     "text": [
      "Can we reject the hypothesis that 5 % of all tires have defects? True\n"
     ]
    }
   ],
   "source": [
    "# your answer here\n",
    "\n",
    "# sl\n",
    "sl = 0.05\n",
    "\n",
    "# observed\n",
    "o = np.array([138, 62])\n",
    "\n",
    "n = o.sum()\n",
    "\n",
    "# expected\n",
    "e = np.array([n*0.95, n*0.05])\n",
    "\n",
    "# compute statistic\n",
    "stat = np.sum(np.square(o-e)/e)\n",
    "\n",
    "# chi2 (degrees of freedom are the number of categories minus 1)\n",
    "p_value = st.chi2.sf(abs(stat), df=2-1)\n",
    "\n",
    "# check against significance level\n",
    "print(f\"Can we reject the hypothesis that 5 % of all tires have defects? {p_value < sl}\")"
   ]
  },
  {
   "cell_type": "markdown",
   "metadata": {},
   "source": [
    "## Question 4\n",
    "A researcher gathers information about the patterns of Physical Activity of children in the fifth grade of primary school of a public school. He defines three categories of physical activity (Low, Medium, High). He also inquires about the regular consumption of sugary drinks at school, and defines two categories (Yes = consumed, No = not consumed). We would like to evaluate if there is an association between patterns of physical activity and the consumption of sugary drinks for the children of this school, at a level of 5% significance. The results are in the following table: \n",
    "\n",
    "![](table4.png)"
   ]
  },
  {
   "cell_type": "code",
   "execution_count": 17,
   "metadata": {},
   "outputs": [
    {
     "name": "stdout",
     "output_type": "stream",
     "text": [
      "Can we reject the null hypothesis that there is no association? True\n"
     ]
    }
   ],
   "source": [
    "#your answer here\n",
    "\n",
    "# test of association\n",
    "\n",
    "# frequency table\n",
    "freq_table = np.array([[32, 12], [14, 22], [6, 9]])\n",
    "\n",
    "stat, p_value, df, expected_freq = st.chi2_contingency(freq_table)\n",
    "\n",
    "print(f\"Can we reject the null hypothesis that there is no association? {p_value < 0.05}\")\n"
   ]
  }
 ],
 "metadata": {
  "kernelspec": {
   "display_name": "Python 3",
   "language": "python",
   "name": "python3"
  },
  "language_info": {
   "codemirror_mode": {
    "name": "ipython",
    "version": 3
   },
   "file_extension": ".py",
   "mimetype": "text/x-python",
   "name": "python",
   "nbconvert_exporter": "python",
   "pygments_lexer": "ipython3",
   "version": "3.7.10"
  }
 },
 "nbformat": 4,
 "nbformat_minor": 2
}
